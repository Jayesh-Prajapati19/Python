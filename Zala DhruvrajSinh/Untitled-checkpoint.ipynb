{
 "cells": [
  {
   "cell_type": "code",
   "execution_count": 36,
   "metadata": {},
   "outputs": [
    {
     "name": "stdout",
     "output_type": "stream",
     "text": [
      "5\n",
      "[1, 2, 3, 4]\n",
      "None\n",
      "None\n",
      "[1, 2, 3, 7, 4, 7]\n"
     ]
    }
   ],
   "source": [
    "class SQ:\n",
    "    def __init__(self,l):\n",
    "        self.list = l\n",
    "        \n",
    "    def shift(self,l):\n",
    "        try:\n",
    "            pop = l.pop()\n",
    "            return pop\n",
    "        except:\n",
    "            raise NoElementInList\n",
    "            print(\"List has No element\")\n",
    "            \n",
    "    def unshift(self,l):\n",
    "        \n",
    "        add_element = l.append(7)\n",
    "        \n",
    "    def push(self,l):\n",
    "        \n",
    "        pushh = l.insert(3,7)\n",
    "     \n",
    "    \n",
    "    def display(self):\n",
    "        print(l)\n",
    "    \n",
    "l = [1,2,3,4,5]\n",
    "\n",
    "b = SQ(l)\n",
    "a = b.shift(l)\n",
    "print(a)\n",
    "print(l)\n",
    "print(b.unshift(l))\n",
    "\n",
    "b.push(l)\n",
    "\n",
    "b.display()\n",
    "\n"
   ]
  },
  {
   "cell_type": "code",
   "execution_count": 28,
   "metadata": {},
   "outputs": [
    {
     "name": "stdout",
     "output_type": "stream",
     "text": [
      "5\n",
      "[1, 2, 3, 4]\n",
      "None\n"
     ]
    }
   ],
   "source": []
  },
  {
   "cell_type": "code",
   "execution_count": 39,
   "metadata": {},
   "outputs": [
    {
     "name": "stdout",
     "output_type": "stream",
     "text": [
      "5\n",
      "[1, 2, 3, 4]\n",
      "None\n",
      "[9, 1, 2, 3, 4, 7]\n"
     ]
    }
   ],
   "source": [
    "class SQ:\n",
    "    def __init__(self,l):\n",
    "        self.list = l\n",
    "        \n",
    "    def shift(self,l):\n",
    "        try:\n",
    "            pop = l.pop()\n",
    "            return pop\n",
    "        except:\n",
    "            raise NoElementInList\n",
    "            print(\"List has No element\")\n",
    "            \n",
    "    def unshift(self,l):\n",
    "        \n",
    "         pushh = l.insert(0,9)\n",
    "        \n",
    "    def push(self,l):\n",
    "        \n",
    "\n",
    "        add_element = l.append(7)\n",
    "    \n",
    "    def display(self):\n",
    "        print(l)\n",
    "    \n",
    "l = [1,2,3,4,5]\n",
    "\n",
    "b = SQ(l)\n",
    "\n",
    "a = b.shift(l)\n",
    "print(a)\n",
    "print(l)\n",
    "\n",
    "print(b.unshift(l))\n",
    "\n",
    "b.push(l)\n",
    "\n",
    "b.display()\n",
    "\n"
   ]
  },
  {
   "cell_type": "code",
   "execution_count": 41,
   "metadata": {},
   "outputs": [
    {
     "name": "stdout",
     "output_type": "stream",
     "text": [
      "5\n",
      "[1, 2, 3, 4]\n",
      "[1, 2, 3, 4, 7]\n"
     ]
    }
   ],
   "source": [
    "class SQ:\n",
    "    def __init__(self,l):\n",
    "        self.list = l\n",
    "        \n",
    "    def shift(self,l):\n",
    "        try:\n",
    "            pop = l.pop()\n",
    "            return pop\n",
    "        except:\n",
    "            raise NoElementInList\n",
    "            print(\"List has No element\")\n",
    "            \n",
    "    def unshift(self,l):\n",
    "        \n",
    "         pushh = l.insert(0,9)\n",
    "        \n",
    "    def push(self,l):\n",
    "        \n",
    "\n",
    "        add_element = l.append(7)\n",
    "    \n",
    "    def display(self):\n",
    "        print(l)\n",
    "    \n",
    "l = [1,2,3,4,5]\n",
    "\n",
    "b = SQ(l)\n",
    "a = b.shift(l)\n",
    "print(a)\n",
    "print(l)\n",
    "\n",
    "\n",
    "\n",
    "\n",
    "b.push(l)\n",
    "\n",
    "b.display()\n",
    "\n"
   ]
  },
  {
   "cell_type": "code",
   "execution_count": 44,
   "metadata": {},
   "outputs": [
    {
     "name": "stdout",
     "output_type": "stream",
     "text": [
      "5\n",
      "[1, 2, 3, 4]\n",
      "None\n",
      "[9, 1, 2, 3, 4, 7]\n"
     ]
    }
   ],
   "source": [
    "class SQ:\n",
    "    def __init__(self,l):\n",
    "        self.list = l\n",
    "        \n",
    "    def shift(self,l):\n",
    "        try:\n",
    "            pop = l.pop()\n",
    "            return pop\n",
    "        except:\n",
    "            raise NoElementInList\n",
    "            print(\"List has No element\")\n",
    "            \n",
    "    def unshift(self,l):\n",
    "        \n",
    "         pushh = l.insert(0,9)\n",
    "        \n",
    "    def push(self,l):\n",
    "        \n",
    "\n",
    "        add_element = l.append(7)\n",
    "    \n",
    "    def display(self):\n",
    "        print(l)\n",
    "    \n",
    "l = [1,2,3,4,5]\n",
    "\n",
    "b = SQ(l)\n",
    "\n",
    "a = b.shift(l)\n",
    "print(a)\n",
    "print(l)\n",
    "\n",
    "print(b.unshift(l))\n",
    "\n",
    "\n",
    "b.push(l)\n",
    "\n",
    "b.display()\n",
    "\n"
   ]
  },
  {
   "cell_type": "code",
   "execution_count": null,
   "metadata": {},
   "outputs": [],
   "source": []
  }
 ],
 "metadata": {
  "kernelspec": {
   "display_name": "Python 3",
   "language": "python",
   "name": "python3"
  },
  "language_info": {
   "codemirror_mode": {
    "name": "ipython",
    "version": 3
   },
   "file_extension": ".py",
   "mimetype": "text/x-python",
   "name": "python",
   "nbconvert_exporter": "python",
   "pygments_lexer": "ipython3",
   "version": "3.8.5"
  }
 },
 "nbformat": 4,
 "nbformat_minor": 4
}
