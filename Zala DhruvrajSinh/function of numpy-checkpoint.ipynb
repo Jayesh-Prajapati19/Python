{
 "cells": [
  {
   "cell_type": "code",
   "execution_count": 10,
   "metadata": {},
   "outputs": [
    {
     "name": "stdout",
     "output_type": "stream",
     "text": [
      "[ 5  6  9 10 13 15 20 21 25 28]\n",
      "[28 25 21 20 15 13 10  9  6  5]\n",
      "```````````````````````````````````````\n",
      "[[3 6 8 1]\n",
      " [1 9 3 4]\n",
      " [4 3 2 6]\n",
      " [6 9 2 4]]\n",
      "```````````````````````````````````````\n",
      "[[1 3 6 8]\n",
      " [1 3 4 9]\n",
      " [2 3 4 6]\n",
      " [2 4 6 9]]\n",
      "```````````````````````````````````````\n",
      "[[1 3 2 1]\n",
      " [3 6 2 4]\n",
      " [4 9 3 4]\n",
      " [6 9 8 6]]\n",
      "```````````````````````````````````````\n",
      "[[1 3 6 8]\n",
      " [1 3 4 9]\n",
      " [2 3 4 6]\n",
      " [2 4 6 9]]\n",
      "```````````````````````````````````````\n",
      "Concating The Arrays:- \n",
      "[[0 1 2]\n",
      " [3 4 5]]\n",
      "```````````````````````````````````````\n",
      "[[ 6  7  8]\n",
      " [ 9 10 11]]\n",
      "```````````````````````````````````````\n",
      "[[ 0  1  2]\n",
      " [ 3  4  5]\n",
      " [ 6  7  8]\n",
      " [ 9 10 11]]\n",
      "```````````````````````````````````````\n",
      "[[ 0  1  2  6  7  8]\n",
      " [ 3  4  5  9 10 11]]\n",
      "```````````````````````````````````````\n",
      "[[ 0  1  2]\n",
      " [ 3  4  5]\n",
      " [ 6  7  8]\n",
      " [ 9 10 11]\n",
      " [13 14 15]\n",
      " [16 17 18]]\n",
      "```````````````````````````````````````\n",
      "[[ 0  1  2]\n",
      " [ 3  4  5]\n",
      " [ 6  7  8]\n",
      " [ 9 10 11]\n",
      " [13 14 15]\n",
      " [16 17 18]]\n"
     ]
    }
   ],
   "source": [
    "import numpy as np\n",
    "a=np.array([10,20,15,5,6,9,25,28,13,21])\n",
    "print(np.sort(a))\n",
    "print(np.sort(a)[::-1])\n",
    "print(\"```````````````````````````````````````\")\n",
    "b=np.array([[3,6,8,1],[1,9,3,4],[4,3,2,6],[6,9,2,4]])\n",
    "print(b)\n",
    "print(\"```````````````````````````````````````\")\n",
    "print(np.sort(b))\n",
    "print(\"```````````````````````````````````````\")\n",
    "print(np.sort(b,axis=0)) #column sort\n",
    "print(\"```````````````````````````````````````\")\n",
    "print(np.sort(b,axis=1))\n",
    "print(\"```````````````````````````````````````\")\n",
    "print(\"Concating The Arrays:- \")\n",
    "c=np.arange(6).reshape(2,3)\n",
    "d=np.arange(6,12).reshape(2,3)\n",
    "print(c)\n",
    "print(\"```````````````````````````````````````\")\n",
    "print(d)\n",
    "print(\"```````````````````````````````````````\")\n",
    "print(np.concatenate((c,d),axis=0))\n",
    "print(\"```````````````````````````````````````\")\n",
    "print(np.concatenate((c,d),axis=1))\n",
    "print(\"```````````````````````````````````````\")\n",
    "e=np.arange(13,19).reshape(2,3)\n",
    "print(np.concatenate((c,d,e),axis=0))\n",
    "print(\"```````````````````````````````````````\")\n",
    "print(np.concatenate((c,d,e),axis=0))"
   ]
  },
  {
   "cell_type": "code",
   "execution_count": 14,
   "metadata": {},
   "outputs": [
    {
     "name": "stdout",
     "output_type": "stream",
     "text": [
      "(array([0, 1, 2, 2], dtype=int64), array([1, 0, 0, 2], dtype=int64))\n",
      "(array([0, 1, 1, 1], dtype=int64), array([1, 1, 1, 1], dtype=int64), array([2, 0, 1, 2], dtype=int64))\n",
      "[[1 2 3]\n",
      " [4 5 6]]\n",
      "[[3 2 1]\n",
      " [6 7 8]]\n"
     ]
    }
   ],
   "source": [
    "b=np.array([[1,4,3],[4,6,8],[4,3,4]])\n",
    "print(np.where(b==4))\n",
    "c=np.array([[[1,2,3],[4,5,6]],[[3,2,1],[6,7,8]]])\n",
    "print(np.where(c>5))\n",
    "for i in c:\n",
    "    print(i)"
   ]
  },
  {
   "cell_type": "code",
   "execution_count": 18,
   "metadata": {},
   "outputs": [
    {
     "name": "stdout",
     "output_type": "stream",
     "text": [
      "[array([1, 2, 3, 4]), array([5, 6, 7]), array([ 8,  9, 10])]\n",
      "[array([1, 2, 3]), array([4, 5, 6]), array([7, 8]), array([ 9, 10])]\n",
      "[array([1]), array([2]), array([3]), array([4]), array([], dtype=int32)]\n"
     ]
    }
   ],
   "source": [
    "d=np.array([1,2,3,4,5,6,7,8,9,10])\n",
    "new = np.array_split(d,3)\n",
    "print(new)\n",
    "n=np.array_split(d,4)\n",
    "print(n)\n",
    "b=np.array([1,2,3,4])\n",
    "print(np.array_split(b,5))"
   ]
  }
 ],
 "metadata": {
  "kernelspec": {
   "display_name": "Python 3",
   "language": "python",
   "name": "python3"
  },
  "language_info": {
   "codemirror_mode": {
    "name": "ipython",
    "version": 3
   },
   "file_extension": ".py",
   "mimetype": "text/x-python",
   "name": "python",
   "nbconvert_exporter": "python",
   "pygments_lexer": "ipython3",
   "version": "3.8.5"
  }
 },
 "nbformat": 4,
 "nbformat_minor": 4
}
