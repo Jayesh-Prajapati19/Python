{
 "cells": [
  {
   "cell_type": "code",
   "execution_count": 25,
   "metadata": {},
   "outputs": [
    {
     "name": "stdout",
     "output_type": "stream",
     "text": [
      "[[ 13  10   9  33  41 106]\n",
      " [ 63  46  90  42  87 328]\n",
      " [ 39  76  13  29  72 229]\n",
      " [ 82   9  29  78  36 234]\n",
      " [ 67  61  59  36  92 315]\n",
      " [ 77  83  98  95  89 442]\n",
      " [ 92  71  52  61  53 329]]\n"
     ]
    }
   ],
   "source": [
    "import matplotlib.pyplot as plt\n",
    "import numpy as np\n",
    "Scores= np.array([[13, 10, 9, 33], \n",
    "[63, 46, 90, 42], \n",
    "[39, 76, 13, 29], \n",
    "[82, 9, 29, 78], \n",
    "[67, 61, 59, 36]])\n",
    "match_5=np.array([41, 87, 72, 36, 92]).reshape(5,1)\n",
    "Scores=np.concatenate((Scores,match_5),axis=1)\n",
    "\n",
    "Batsman_6= np.array([[77, 83, 98, 95, 89]])\n",
    "Batsman_7= np.array([[92, 71, 52, 61, 53]])\n",
    "Scores=np.concatenate((Scores,Batsman_6,Batsman_7),axis=0)\n",
    "\n",
    "l=[]\n",
    "for i in range(len(Scores)):\n",
    "    l.append(sum(Scores[i])) \n",
    "l=np.array(l).reshape(7,1)\n",
    "Scores=np.concatenate((Scores,l),axis=1)\n",
    "\n",
    "print(Scores)"
   ]
  },
  {
   "cell_type": "code",
   "execution_count": null,
   "metadata": {},
   "outputs": [],
   "source": []
  }
 ],
 "metadata": {
  "kernelspec": {
   "display_name": "Python 3",
   "language": "python",
   "name": "python3"
  },
  "language_info": {
   "codemirror_mode": {
    "name": "ipython",
    "version": 3
   },
   "file_extension": ".py",
   "mimetype": "text/x-python",
   "name": "python",
   "nbconvert_exporter": "python",
   "pygments_lexer": "ipython3",
   "version": "3.8.5"
  }
 },
 "nbformat": 4,
 "nbformat_minor": 4
}
