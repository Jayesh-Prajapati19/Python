{
 "cells": [
  {
   "cell_type": "code",
   "execution_count": 4,
   "metadata": {},
   "outputs": [
    {
     "name": "stdout",
     "output_type": "stream",
     "text": [
      "A abc@gmail.com\n",
      "B pqr@gmail.com\n",
      "[]\n",
      "A has been added\n",
      "A has been removed\n",
      "B pqr@gmail.com\n",
      "[]\n"
     ]
    }
   ],
   "source": [
    "class Person():\n",
    "    def __init__(self,name,email):\n",
    "        self.name=name\n",
    "        self.email=email\n",
    "    def putdata(self):\n",
    "        print(self.name,self.email)\n",
    "class Student(Person):\n",
    "    def __init__(self,name,email):\n",
    "        super().__init__(name,email)\n",
    "class PhDGuide(Person):\n",
    "    def __init__(self,name,email):\n",
    "        super().__init__(name,email)\n",
    "        self.students=[]\n",
    "    def putdata(self):\n",
    "        super().putdata()\n",
    "        print(self.students)\n",
    "    def add(self,student):\n",
    "        self.students.append(student)\n",
    "        print(student.name,\"has been added\")\n",
    "    def remove(self,s):\n",
    "        if s in self.students:\n",
    "            self.students.remove(s)\n",
    "            print(s.name,\"has been removed\")\n",
    "        else:\n",
    "            print(s.name,\"is not in the list\")\n",
    "s1=Student(\"A\",\"abc@gmail.com\")\n",
    "s1.putdata()\n",
    "g1=PhDGuide(\"B\",\"pqr@gmail.com\")\n",
    "g1.putdata()\n",
    "g1.add(s1)\n",
    "g1.remove(s1)\n",
    "g1.putdata()"
   ]
  },
  {
   "cell_type": "code",
   "execution_count": 20,
   "metadata": {},
   "outputs": [
    {
     "name": "stdout",
     "output_type": "stream",
     "text": [
      "The bus seating capacity is 5.so,The final amount is:- 550\n"
     ]
    }
   ],
   "source": [
    "#691\n",
    "class Vehical():\n",
    "    def __init__(self,name,mileage,seating):\n",
    "        self.name=name\n",
    "        self.mileage=mileage\n",
    "        self.seating=seating\n",
    "    def calculate_fare(self):\n",
    "        return self.seating*100\n",
    "class Bus(Vehical):\n",
    "    def __init__(self,name,mileage,seating):\n",
    "        super().__init__(name,mileage,seating)\n",
    "    def fare(self):\n",
    "        self.totalfare=super().calculate_fare()\n",
    "        self.finalamnt=self.totalfare+(int(self.totalfare*0.1))\n",
    "        return self.finalamnt\n",
    "b=Bus(\"Bus\",50,5)\n",
    "print(f\"The {b.name.lower()} seating capacity is {b.seating}.so,The final amount is:- {b.fare()}\")"
   ]
  },
  {
   "cell_type": "code",
   "execution_count": 1,
   "metadata": {},
   "outputs": [
    {
     "name": "stdout",
     "output_type": "stream",
     "text": [
      "15\n",
      "12.56\n"
     ]
    }
   ],
   "source": [
    "class shape():\n",
    "    def area(self,a,b=0):\n",
    "        if b==0:\n",
    "            return 3.14*(a**2)\n",
    "        else:\n",
    "            return a*b\n",
    "s=shape()\n",
    "print(s.area(3,5))\n",
    "print(s.area(2))"
   ]
  },
  {
   "cell_type": "code",
   "execution_count": 19,
   "metadata": {},
   "outputs": [
    {
     "name": "stdout",
     "output_type": "stream",
     "text": [
      "8\n"
     ]
    }
   ],
   "source": [
    "class A:\n",
    "    def __init__(self,a):\n",
    "        self.a=a\n",
    "    def __add__(self,other):\n",
    "        return self.a+other.a\n",
    "class B:\n",
    "    def __init__(self,a):\n",
    "        self.a=a\n",
    "a1=A(5)\n",
    "b1=B(3)\n",
    "print(a1+b1)\n",
    "#print(b1+a1)---> Error"
   ]
  },
  {
   "cell_type": "code",
   "execution_count": 26,
   "metadata": {},
   "outputs": [
    {
     "name": "stdout",
     "output_type": "stream",
     "text": [
      "Inside Constructor\n",
      "Static Method 5\n",
      "Object Called\n"
     ]
    }
   ],
   "source": [
    "class A:\n",
    "    def __init__(self,x):\n",
    "        self.x=x\n",
    "        print(\"Inside Constructor\")\n",
    "    @staticmethod\n",
    "    def stat():\n",
    "        a=5\n",
    "        print(\"Static Method\",a)\n",
    "    def __str__(self):\n",
    "        return \"Object Called\"\n",
    "a1=A(8)\n",
    "a1.stat()\n",
    "print(a1)"
   ]
  },
  {
   "cell_type": "code",
   "execution_count": 40,
   "metadata": {},
   "outputs": [
    {
     "name": "stdout",
     "output_type": "stream",
     "text": [
      "A and B got the same marks100\n"
     ]
    }
   ],
   "source": [
    "class Student():\n",
    "    rollno=0\n",
    "    name=\"\"\n",
    "    age=0\n",
    "    totalmarks=0\n",
    "    def __init__(self,roll,name,age,totalmarks):\n",
    "        self.rollno=roll\n",
    "        self.name=name\n",
    "        self.age=age\n",
    "        self.totalmarks=totalmarks\n",
    "    def __eq__(self,other):\n",
    "        if(self.totalmarks==other.totalmarks):\n",
    "            return f\"{self.name} and {other.name} got the same marks{self.totalmarks}\"\n",
    "s1=Student(1,\"A\",18,100)\n",
    "s2=Student(1,\"B\",19,100)\n",
    "print(s1==s2)"
   ]
  },
  {
   "cell_type": "code",
   "execution_count": 10,
   "metadata": {
    "scrolled": true
   },
   "outputs": [
    {
     "name": "stdout",
     "output_type": "stream",
     "text": [
      "Enter The 0 0 element:- 1\n",
      "Enter The 0 1 element:- 2\n",
      "Enter The 0 2 element:- 3\n",
      "Enter The 1 0 element:- 4\n",
      "Enter The 1 1 element:- 5\n",
      "Enter The 1 2 element:- 6\n",
      "Enter The 2 0 element:- 7\n",
      "Enter The 2 1 element:- 8\n",
      "Enter The 2 2 element:- 9\n",
      "1 2 3 \n",
      "4 5 6 \n",
      "7 8 9 \n",
      "Enter The 0 0 element:- 1\n",
      "Enter The 0 1 element:- 2\n",
      "Enter The 0 2 element:- 3\n",
      "Enter The 1 0 element:- 4\n",
      "Enter The 1 1 element:- 5\n",
      "Enter The 1 2 element:- 6\n",
      "Enter The 2 0 element:- 7\n",
      "Enter The 2 1 element:- 8\n",
      "Enter The 2 2 element:- 9\n",
      "1 2 3 \n",
      "4 5 6 \n",
      "7 8 9 \n",
      "Addition:- \n",
      "2 4 6 \n",
      "8 10 12 \n",
      "14 16 18 \n",
      "None\n",
      "Multiplication:- \n",
      "30 36 42 \n",
      "66 81 96 \n",
      "102 126 150 \n"
     ]
    }
   ],
   "source": [
    "#694\n",
    "class Matrix():\n",
    "    def __init__(self,rows,columns):\n",
    "        self.row=rows\n",
    "        self.column=columns\n",
    "        self.L=list()\n",
    "    def set_element(self):\n",
    "        for i in range(self.row):\n",
    "            x=list()\n",
    "            for j in range(self.column):\n",
    "                u=int(input(f\"Enter The {i} {j} element:- \"))\n",
    "                x.append(u)\n",
    "            self.L.append(x)\n",
    "        for i in self.L:\n",
    "            for j in i:\n",
    "                print(j,end=\" \")\n",
    "            print()\n",
    "    def __add__(self,other):\n",
    "        if (self.row==other.row and self.column==other.column):\n",
    "            self.add=list()\n",
    "            for i in range(self.row):\n",
    "                x=list()\n",
    "                for j in range(self.column):\n",
    "                    u=self.L[i][j]+other.L[i][j]\n",
    "                    x.append(u)\n",
    "                self.add.append(x)\n",
    "                \n",
    "            print(\"Addition:- \")\n",
    "            for i in self.add:\n",
    "                for j in i:\n",
    "                    print(j,end=\" \")\n",
    "                print()\n",
    "        else:\n",
    "            print(\"None\")\n",
    "    def __mul__(self,other):\n",
    "        if (self.column==other.row):\n",
    "            self.mul=Matrix(self.row,other.column)\n",
    "            for i in range (self.row):\n",
    "                z=list()\n",
    "                for j in range (other.column):\n",
    "                    u=0\n",
    "                    for k in range(self.column):\n",
    "                        u+=self.L[i][k]*other.L[k][j]\n",
    "                    z.append(u)\n",
    "                self.mul.L.append(z)\n",
    "            print(\"Multiplication:- \")\n",
    "            for i in self.mul.L:\n",
    "                for j in i:\n",
    "                    print(j,end=\" \")\n",
    "                print()\n",
    "        else:\n",
    "            print(\"None\")\n",
    "m=Matrix(3,3)\n",
    "y=Matrix(3,3)\n",
    "m.set_element()\n",
    "y.set_element()\n",
    "(m+y)\n",
    "(m*y)"
   ]
  },
  {
   "cell_type": "code",
   "execution_count": 2,
   "metadata": {},
   "outputs": [
    {
     "name": "stdout",
     "output_type": "stream",
     "text": [
      "Enter Employee ID: 1\n",
      "Enter Employee Name: Abc\n",
      "Enter Employee Basic Salary: 45000\n",
      "DA: 15749.999999999998\n",
      "HRA: 7650.000000000001\n",
      "PF: 5400.0\n",
      "Total Perks: 18000.0\n",
      "Employee ID: 1\n",
      "Employee Name: Abc\n",
      "Employee Basic Salary: 45000.0\n",
      "DA: 15749.999999999998\n",
      "HRA: 7650.000000000001\n",
      "PF: 5400.0\n",
      "Net Salary (Total Salary): 63000.0\n"
     ]
    }
   ],
   "source": [
    "from abc import ABC, abstractmethod\n",
    "class Employee(ABC):\n",
    "    def __init__(self):\n",
    "        self.emp_id = None\n",
    "        self.name = None\n",
    "        self.basic_salary = None\n",
    "    def get_employee_details(self):\n",
    "        self.emp_id = int(input(\"Enter Employee ID: \"))\n",
    "        self.name = input(\"Enter Employee Name: \")\n",
    "        self.basic_salary = float(input(\"Enter Employee Basic Salary: \"))\n",
    "    def print_employee_details(self):\n",
    "        print(f\"Employee ID: {self.emp_id}\")\n",
    "        print(f\"Employee Name: {self.name}\")\n",
    "        print(f\"Employee Basic Salary: {self.basic_salary}\")\n",
    "    def return_salary(self):\n",
    "        return self.basic_salary\n",
    "    @abstractmethod\n",
    "    def emp_id(self):\n",
    "        pass\n",
    "class Perks:\n",
    "    def __init__(self, basic_salary):\n",
    "        self.basic_salary = basic_salary\n",
    "        self.da = 0\n",
    "        self.hra = 0\n",
    "        self.pf = 0\n",
    "    def calculate_perks(self):\n",
    "        self.da = 0.35 * self.basic_salary  \n",
    "        self.hra = 0.17 * self.basic_salary  \n",
    "        self.pf = 0.12 * self.basic_salary  \n",
    "    def print_perks(self):\n",
    "        print(f\"DA: {self.da}\")\n",
    "        print(f\"HRA: {self.hra}\")\n",
    "        print(f\"PF: {self.pf}\")\n",
    "        total_perks = self.da + self.hra - self.pf\n",
    "        print(f\"Total Perks: {total_perks}\")\n",
    "        return total_perks\n",
    "class NetSalary(Employee, Perks):\n",
    "    def __init__(self):\n",
    "        Employee.__init__(self)\n",
    "        self.perks = None\n",
    "        self.total_salary = 0\n",
    "    def calculate_net_salary(self):\n",
    "        self.perks = Perks(self.basic_salary)\n",
    "        self.perks.calculate_perks()\n",
    "        total_perks = self.perks.print_perks()\n",
    "        self.total_salary = self.basic_salary + total_perks\n",
    "    def print_net_salary(self):\n",
    "        self.print_employee_details()\n",
    "        print(f\"DA: {self.perks.da}\")\n",
    "        print(f\"HRA: {self.perks.hra}\")\n",
    "        print(f\"PF: {self.perks.pf}\")\n",
    "        print(f\"Net Salary (Total Salary): {self.total_salary}\")\n",
    "    def emp_id(self):\n",
    "        return self.emp_id\n",
    "emp = NetSalary()\n",
    "emp.get_employee_details()\n",
    "emp.calculate_net_salary()\n",
    "emp.print_net_salary()  "
   ]
  }
 ],
 "metadata": {
  "kernelspec": {
   "display_name": "Python 3",
   "language": "python",
   "name": "python3"
  },
  "language_info": {
   "codemirror_mode": {
    "name": "ipython",
    "version": 3
   },
   "file_extension": ".py",
   "mimetype": "text/x-python",
   "name": "python",
   "nbconvert_exporter": "python",
   "pygments_lexer": "ipython3",
   "version": "3.8.5"
  }
 },
 "nbformat": 4,
 "nbformat_minor": 4
}
